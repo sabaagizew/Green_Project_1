{
 "cells": [
  {
   "cell_type": "code",
   "execution_count": 1,
   "id": "f1f17be7",
   "metadata": {
    "execution": {
     "iopub.execute_input": "2022-06-16T08:51:11.974134Z",
     "iopub.status.busy": "2022-06-16T08:51:11.973826Z",
     "iopub.status.idle": "2022-06-16T08:51:11.994778Z",
     "shell.execute_reply": "2022-06-16T08:51:11.993779Z",
     "shell.execute_reply.started": "2022-06-16T08:51:11.974065Z"
    }
   },
   "outputs": [
    {
     "data": {
      "text/plain": [
       "'/home/ftp'"
      ]
     },
     "execution_count": 1,
     "metadata": {},
     "output_type": "execute_result"
    }
   ],
   "source": [
    "#current working directory:\n",
    "import os\n",
    "os.getcwd()"
   ]
  },
  {
   "cell_type": "code",
   "execution_count": 3,
   "id": "8a60f1a7-93da-4260-bbe7-29d3895d382b",
   "metadata": {
    "execution": {
     "iopub.execute_input": "2022-06-16T09:00:54.346265Z",
     "iopub.status.busy": "2022-06-16T09:00:54.345903Z",
     "iopub.status.idle": "2022-06-16T09:00:54.355417Z",
     "shell.execute_reply": "2022-06-16T09:00:54.351170Z",
     "shell.execute_reply.started": "2022-06-16T09:00:54.346230Z"
    }
   },
   "outputs": [
    {
     "name": "stdout",
     "output_type": "stream",
     "text": [
      "3.9.6\n"
     ]
    }
   ],
   "source": [
    "from platform import python_version\n",
    "\n",
    "print(python_version())"
   ]
  },
  {
   "cell_type": "code",
   "execution_count": null,
   "id": "b53e757a",
   "metadata": {},
   "outputs": [],
   "source": [
    "# EDA packages"
   ]
  },
  {
   "cell_type": "code",
   "execution_count": 24,
   "id": "6d0201a3",
   "metadata": {
    "execution": {
     "iopub.execute_input": "2022-06-20T10:43:38.481743Z",
     "iopub.status.busy": "2022-06-20T10:43:38.481516Z",
     "iopub.status.idle": "2022-06-20T10:43:38.484989Z",
     "shell.execute_reply": "2022-06-20T10:43:38.484340Z",
     "shell.execute_reply.started": "2022-06-20T10:43:38.481721Z"
    },
    "tags": []
   },
   "outputs": [],
   "source": [
    "import pandas as pd\n",
    "import numpy as np\n",
    "import seaborn as sns\n",
    "import matplotlib.pyplot as plt #plot package\n",
    "import wordcloud #will use for the word cloud plot\n",
    "from wordcloud import WordCloud, STOPWORDS # optional to filter out the stopwords\n"
   ]
  },
  {
   "cell_type": "code",
   "execution_count": 27,
   "id": "76c72436",
   "metadata": {
    "execution": {
     "iopub.execute_input": "2022-06-20T10:45:52.711729Z",
     "iopub.status.busy": "2022-06-20T10:45:52.711504Z",
     "iopub.status.idle": "2022-06-20T10:45:52.724852Z",
     "shell.execute_reply": "2022-06-20T10:45:52.724307Z",
     "shell.execute_reply.started": "2022-06-20T10:45:52.711707Z"
    },
    "tags": []
   },
   "outputs": [],
   "source": [
    "#load the csv file\n",
    "data = pd.read_csv('Sample_dataset.csv')"
   ]
  },
  {
   "cell_type": "code",
   "execution_count": null,
   "id": "8b6883c0",
   "metadata": {},
   "outputs": [],
   "source": [
    "#Understanding the data"
   ]
  },
  {
   "cell_type": "code",
   "execution_count": 11,
   "id": "23afc318",
   "metadata": {
    "execution": {
     "iopub.execute_input": "2022-06-16T09:18:36.036342Z",
     "iopub.status.busy": "2022-06-16T09:18:36.036018Z",
     "iopub.status.idle": "2022-06-16T09:18:36.096350Z",
     "shell.execute_reply": "2022-06-16T09:18:36.095356Z",
     "shell.execute_reply.started": "2022-06-16T09:18:36.036309Z"
    }
   },
   "outputs": [
    {
     "data": {
      "text/html": [
       "<div>\n",
       "<style scoped>\n",
       "    .dataframe tbody tr th:only-of-type {\n",
       "        vertical-align: middle;\n",
       "    }\n",
       "\n",
       "    .dataframe tbody tr th {\n",
       "        vertical-align: top;\n",
       "    }\n",
       "\n",
       "    .dataframe thead th {\n",
       "        text-align: right;\n",
       "    }\n",
       "</style>\n",
       "<table border=\"1\" class=\"dataframe\">\n",
       "  <thead>\n",
       "    <tr style=\"text-align: right;\">\n",
       "      <th></th>\n",
       "      <th>REGION</th>\n",
       "      <th>WOREDA</th>\n",
       "      <th>KEBELE</th>\n",
       "      <th>unique_ID</th>\n",
       "      <th>A2_LAT</th>\n",
       "      <th>A2_LON</th>\n",
       "      <th>age</th>\n",
       "      <th>sex</th>\n",
       "      <th>Land_measurement (ha)</th>\n",
       "      <th>Percentage of land (%)</th>\n",
       "    </tr>\n",
       "  </thead>\n",
       "  <tbody>\n",
       "    <tr>\n",
       "      <th>0</th>\n",
       "      <td>Oromia</td>\n",
       "      <td>Deder</td>\n",
       "      <td>Obi Lamata</td>\n",
       "      <td>1121252</td>\n",
       "      <td>9.336216</td>\n",
       "      <td>41.403308</td>\n",
       "      <td>38</td>\n",
       "      <td>Female</td>\n",
       "      <td>0.159</td>\n",
       "      <td>100</td>\n",
       "    </tr>\n",
       "    <tr>\n",
       "      <th>1</th>\n",
       "      <td>Oromia</td>\n",
       "      <td>Deder</td>\n",
       "      <td>Obi Lamata</td>\n",
       "      <td>1121254</td>\n",
       "      <td>9.318726</td>\n",
       "      <td>41.378943</td>\n",
       "      <td>33</td>\n",
       "      <td>Male</td>\n",
       "      <td>0.370</td>\n",
       "      <td>80</td>\n",
       "    </tr>\n",
       "    <tr>\n",
       "      <th>2</th>\n",
       "      <td>Oromia</td>\n",
       "      <td>Deder</td>\n",
       "      <td>Obi Lamata</td>\n",
       "      <td>1121256</td>\n",
       "      <td>9.332073</td>\n",
       "      <td>41.382834</td>\n",
       "      <td>30</td>\n",
       "      <td>Female</td>\n",
       "      <td>0.098</td>\n",
       "      <td>100</td>\n",
       "    </tr>\n",
       "    <tr>\n",
       "      <th>3</th>\n",
       "      <td>Oromia</td>\n",
       "      <td>Deder</td>\n",
       "      <td>Obi Lamata</td>\n",
       "      <td>1121258</td>\n",
       "      <td>9.332480</td>\n",
       "      <td>41.390893</td>\n",
       "      <td>38</td>\n",
       "      <td>Male</td>\n",
       "      <td>0.080</td>\n",
       "      <td>60</td>\n",
       "    </tr>\n",
       "    <tr>\n",
       "      <th>4</th>\n",
       "      <td>Oromia</td>\n",
       "      <td>Deder</td>\n",
       "      <td>Gogwisa</td>\n",
       "      <td>1121266</td>\n",
       "      <td>9.158377</td>\n",
       "      <td>41.479508</td>\n",
       "      <td>40</td>\n",
       "      <td>Female</td>\n",
       "      <td>0.037</td>\n",
       "      <td>75</td>\n",
       "    </tr>\n",
       "    <tr>\n",
       "      <th>...</th>\n",
       "      <td>...</td>\n",
       "      <td>...</td>\n",
       "      <td>...</td>\n",
       "      <td>...</td>\n",
       "      <td>...</td>\n",
       "      <td>...</td>\n",
       "      <td>...</td>\n",
       "      <td>...</td>\n",
       "      <td>...</td>\n",
       "      <td>...</td>\n",
       "    </tr>\n",
       "    <tr>\n",
       "      <th>770</th>\n",
       "      <td>Oromia</td>\n",
       "      <td>Sire</td>\n",
       "      <td>ufuraagamsa</td>\n",
       "      <td>11111113110</td>\n",
       "      <td>8.349724</td>\n",
       "      <td>39.526393</td>\n",
       "      <td>50</td>\n",
       "      <td>Male</td>\n",
       "      <td>0.140</td>\n",
       "      <td>100</td>\n",
       "    </tr>\n",
       "    <tr>\n",
       "      <th>771</th>\n",
       "      <td>Oromia</td>\n",
       "      <td>Sire</td>\n",
       "      <td>ufuraagamsa</td>\n",
       "      <td>11111113116</td>\n",
       "      <td>8.348510</td>\n",
       "      <td>39.513112</td>\n",
       "      <td>27</td>\n",
       "      <td>Male</td>\n",
       "      <td>0.230</td>\n",
       "      <td>80</td>\n",
       "    </tr>\n",
       "    <tr>\n",
       "      <th>772</th>\n",
       "      <td>Oromia</td>\n",
       "      <td>Sire</td>\n",
       "      <td>ufuraagamsa</td>\n",
       "      <td>11111113122</td>\n",
       "      <td>8.375818</td>\n",
       "      <td>39.554494</td>\n",
       "      <td>22</td>\n",
       "      <td>Female</td>\n",
       "      <td>0.125</td>\n",
       "      <td>100</td>\n",
       "    </tr>\n",
       "    <tr>\n",
       "      <th>773</th>\n",
       "      <td>Oromia</td>\n",
       "      <td>Sire</td>\n",
       "      <td>ufuraagamsa</td>\n",
       "      <td>11111113128</td>\n",
       "      <td>8.349599</td>\n",
       "      <td>39.526512</td>\n",
       "      <td>23</td>\n",
       "      <td>Male</td>\n",
       "      <td>0.120</td>\n",
       "      <td>100</td>\n",
       "    </tr>\n",
       "    <tr>\n",
       "      <th>774</th>\n",
       "      <td>Oromia</td>\n",
       "      <td>Sire</td>\n",
       "      <td>ufuraagamsa</td>\n",
       "      <td>11111113134</td>\n",
       "      <td>8.351300</td>\n",
       "      <td>39.513283</td>\n",
       "      <td>38</td>\n",
       "      <td>Female</td>\n",
       "      <td>0.120</td>\n",
       "      <td>100</td>\n",
       "    </tr>\n",
       "  </tbody>\n",
       "</table>\n",
       "<p>770 rows × 10 columns</p>\n",
       "</div>"
      ],
      "text/plain": [
       "     REGION WOREDA       KEBELE    unique_ID    A2_LAT     A2_LON  age  \\\n",
       "0    Oromia  Deder   Obi Lamata      1121252  9.336216  41.403308   38   \n",
       "1    Oromia  Deder   Obi Lamata      1121254  9.318726  41.378943   33   \n",
       "2    Oromia  Deder   Obi Lamata      1121256  9.332073  41.382834   30   \n",
       "3    Oromia  Deder   Obi Lamata      1121258  9.332480  41.390893   38   \n",
       "4    Oromia  Deder      Gogwisa      1121266  9.158377  41.479508   40   \n",
       "..      ...    ...          ...          ...       ...        ...  ...   \n",
       "770  Oromia   Sire  ufuraagamsa  11111113110  8.349724  39.526393   50   \n",
       "771  Oromia   Sire  ufuraagamsa  11111113116  8.348510  39.513112   27   \n",
       "772  Oromia   Sire  ufuraagamsa  11111113122  8.375818  39.554494   22   \n",
       "773  Oromia   Sire  ufuraagamsa  11111113128  8.349599  39.526512   23   \n",
       "774  Oromia   Sire  ufuraagamsa  11111113134  8.351300  39.513283   38   \n",
       "\n",
       "        sex  Land_measurement (ha)  Percentage of land (%)  \n",
       "0    Female                  0.159                     100  \n",
       "1      Male                  0.370                      80  \n",
       "2    Female                  0.098                     100  \n",
       "3      Male                  0.080                      60  \n",
       "4    Female                  0.037                      75  \n",
       "..      ...                    ...                     ...  \n",
       "770    Male                  0.140                     100  \n",
       "771    Male                  0.230                      80  \n",
       "772  Female                  0.125                     100  \n",
       "773    Male                  0.120                     100  \n",
       "774  Female                  0.120                     100  \n",
       "\n",
       "[770 rows x 10 columns]"
      ]
     },
     "execution_count": 11,
     "metadata": {},
     "output_type": "execute_result"
    }
   ],
   "source": [
    "data.dropna()"
   ]
  },
  {
   "cell_type": "code",
   "execution_count": 6,
   "id": "4d037e47",
   "metadata": {},
   "outputs": [
    {
     "data": {
      "text/html": [
       "<div>\n",
       "<style scoped>\n",
       "    .dataframe tbody tr th:only-of-type {\n",
       "        vertical-align: middle;\n",
       "    }\n",
       "\n",
       "    .dataframe tbody tr th {\n",
       "        vertical-align: top;\n",
       "    }\n",
       "\n",
       "    .dataframe thead th {\n",
       "        text-align: right;\n",
       "    }\n",
       "</style>\n",
       "<table border=\"1\" class=\"dataframe\">\n",
       "  <thead>\n",
       "    <tr style=\"text-align: right;\">\n",
       "      <th></th>\n",
       "      <th>REGION</th>\n",
       "      <th>WOREDA</th>\n",
       "      <th>KEBELE</th>\n",
       "      <th>unique_ID</th>\n",
       "      <th>A2_LAT</th>\n",
       "      <th>A2_LON</th>\n",
       "      <th>age</th>\n",
       "      <th>sex</th>\n",
       "      <th>Land_measurement (ha)</th>\n",
       "      <th>Percentage of land (%)</th>\n",
       "    </tr>\n",
       "  </thead>\n",
       "  <tbody>\n",
       "    <tr>\n",
       "      <th>767</th>\n",
       "      <td>Oromia</td>\n",
       "      <td>Siraro</td>\n",
       "      <td>bilanchaalamaan</td>\n",
       "      <td>11101101386</td>\n",
       "      <td>7.078895</td>\n",
       "      <td>38.172030</td>\n",
       "      <td>38</td>\n",
       "      <td>Male</td>\n",
       "      <td>0.65</td>\n",
       "      <td>75</td>\n",
       "    </tr>\n",
       "    <tr>\n",
       "      <th>768</th>\n",
       "      <td>Oromia</td>\n",
       "      <td>Sire</td>\n",
       "      <td>hugisoboreno</td>\n",
       "      <td>11111112104</td>\n",
       "      <td>8.229723</td>\n",
       "      <td>39.569796</td>\n",
       "      <td>45</td>\n",
       "      <td>Female</td>\n",
       "      <td>0.23</td>\n",
       "      <td>85</td>\n",
       "    </tr>\n",
       "    <tr>\n",
       "      <th>769</th>\n",
       "      <td>Oromia</td>\n",
       "      <td>Sire</td>\n",
       "      <td>ufuraagamsa</td>\n",
       "      <td>11111113105</td>\n",
       "      <td>8.348198</td>\n",
       "      <td>39.512957</td>\n",
       "      <td>28</td>\n",
       "      <td>Female</td>\n",
       "      <td>0.027</td>\n",
       "      <td>85</td>\n",
       "    </tr>\n",
       "    <tr>\n",
       "      <th>770</th>\n",
       "      <td>Oromia</td>\n",
       "      <td>Sire</td>\n",
       "      <td>ufuraagamsa</td>\n",
       "      <td>11111113110</td>\n",
       "      <td>8.349724</td>\n",
       "      <td>39.526393</td>\n",
       "      <td>50</td>\n",
       "      <td>Male</td>\n",
       "      <td>0.14</td>\n",
       "      <td>100</td>\n",
       "    </tr>\n",
       "    <tr>\n",
       "      <th>771</th>\n",
       "      <td>Oromia</td>\n",
       "      <td>Sire</td>\n",
       "      <td>ufuraagamsa</td>\n",
       "      <td>11111113116</td>\n",
       "      <td>8.34851</td>\n",
       "      <td>39.513112</td>\n",
       "      <td>27</td>\n",
       "      <td>Male</td>\n",
       "      <td>0.23</td>\n",
       "      <td>80</td>\n",
       "    </tr>\n",
       "    <tr>\n",
       "      <th>772</th>\n",
       "      <td>Oromia</td>\n",
       "      <td>Sire</td>\n",
       "      <td>ufuraagamsa</td>\n",
       "      <td>11111113122</td>\n",
       "      <td>8.375818</td>\n",
       "      <td>39.554494</td>\n",
       "      <td>22</td>\n",
       "      <td>Female</td>\n",
       "      <td>0.125</td>\n",
       "      <td>100</td>\n",
       "    </tr>\n",
       "    <tr>\n",
       "      <th>773</th>\n",
       "      <td>Oromia</td>\n",
       "      <td>Sire</td>\n",
       "      <td>ufuraagamsa</td>\n",
       "      <td>11111113128</td>\n",
       "      <td>8.349599</td>\n",
       "      <td>39.526512</td>\n",
       "      <td>23</td>\n",
       "      <td>Male</td>\n",
       "      <td>0.12</td>\n",
       "      <td>100</td>\n",
       "    </tr>\n",
       "    <tr>\n",
       "      <th>774</th>\n",
       "      <td>Oromia</td>\n",
       "      <td>Sire</td>\n",
       "      <td>ufuraagamsa</td>\n",
       "      <td>11111113134</td>\n",
       "      <td>8.3513</td>\n",
       "      <td>39.513283</td>\n",
       "      <td>38</td>\n",
       "      <td>Female</td>\n",
       "      <td>0.12</td>\n",
       "      <td>100</td>\n",
       "    </tr>\n",
       "  </tbody>\n",
       "</table>\n",
       "</div>"
      ],
      "text/plain": [
       "     REGION  WOREDA           KEBELE    unique_ID    A2_LAT     A2_LON  age  \\\n",
       "767  Oromia  Siraro  bilanchaalamaan  11101101386  7.078895  38.172030   38   \n",
       "768  Oromia    Sire     hugisoboreno  11111112104  8.229723  39.569796   45   \n",
       "769  Oromia    Sire      ufuraagamsa  11111113105  8.348198  39.512957   28   \n",
       "770  Oromia    Sire      ufuraagamsa  11111113110  8.349724  39.526393   50   \n",
       "771  Oromia    Sire      ufuraagamsa  11111113116   8.34851  39.513112   27   \n",
       "772  Oromia    Sire      ufuraagamsa  11111113122  8.375818  39.554494   22   \n",
       "773  Oromia    Sire      ufuraagamsa  11111113128  8.349599  39.526512   23   \n",
       "774  Oromia    Sire      ufuraagamsa  11111113134    8.3513  39.513283   38   \n",
       "\n",
       "        sex Land_measurement (ha)  Percentage of land (%)  \n",
       "767    Male                  0.65                      75  \n",
       "768  Female                  0.23                      85  \n",
       "769  Female                 0.027                      85  \n",
       "770    Male                  0.14                     100  \n",
       "771    Male                  0.23                      80  \n",
       "772  Female                 0.125                     100  \n",
       "773    Male                  0.12                     100  \n",
       "774  Female                  0.12                     100  "
      ]
     },
     "execution_count": 6,
     "metadata": {},
     "output_type": "execute_result"
    }
   ],
   "source": [
    "data.tail(8)"
   ]
  },
  {
   "cell_type": "code",
   "execution_count": 7,
   "id": "b82bbe12",
   "metadata": {},
   "outputs": [
    {
     "data": {
      "text/plain": [
       "(775, 10)"
      ]
     },
     "execution_count": 7,
     "metadata": {},
     "output_type": "execute_result"
    }
   ],
   "source": [
    "data.shape"
   ]
  },
  {
   "cell_type": "code",
   "execution_count": 8,
   "id": "3275bb63",
   "metadata": {},
   "outputs": [
    {
     "data": {
      "text/html": [
       "<div>\n",
       "<style scoped>\n",
       "    .dataframe tbody tr th:only-of-type {\n",
       "        vertical-align: middle;\n",
       "    }\n",
       "\n",
       "    .dataframe tbody tr th {\n",
       "        vertical-align: top;\n",
       "    }\n",
       "\n",
       "    .dataframe thead th {\n",
       "        text-align: right;\n",
       "    }\n",
       "</style>\n",
       "<table border=\"1\" class=\"dataframe\">\n",
       "  <thead>\n",
       "    <tr style=\"text-align: right;\">\n",
       "      <th></th>\n",
       "      <th>unique_ID</th>\n",
       "      <th>A2_LON</th>\n",
       "      <th>age</th>\n",
       "      <th>Percentage of land (%)</th>\n",
       "    </tr>\n",
       "  </thead>\n",
       "  <tbody>\n",
       "    <tr>\n",
       "      <th>count</th>\n",
       "      <td>7.750000e+02</td>\n",
       "      <td>775.000000</td>\n",
       "      <td>775.000000</td>\n",
       "      <td>775.000000</td>\n",
       "    </tr>\n",
       "    <tr>\n",
       "      <th>mean</th>\n",
       "      <td>3.656036e+08</td>\n",
       "      <td>39.532398</td>\n",
       "      <td>43.015484</td>\n",
       "      <td>93.952258</td>\n",
       "    </tr>\n",
       "    <tr>\n",
       "      <th>std</th>\n",
       "      <td>1.639623e+09</td>\n",
       "      <td>1.342016</td>\n",
       "      <td>13.139473</td>\n",
       "      <td>15.338272</td>\n",
       "    </tr>\n",
       "    <tr>\n",
       "      <th>min</th>\n",
       "      <td>1.121252e+06</td>\n",
       "      <td>38.010288</td>\n",
       "      <td>18.000000</td>\n",
       "      <td>10.000000</td>\n",
       "    </tr>\n",
       "    <tr>\n",
       "      <th>25%</th>\n",
       "      <td>1.136382e+07</td>\n",
       "      <td>38.523690</td>\n",
       "      <td>35.000000</td>\n",
       "      <td>100.000000</td>\n",
       "    </tr>\n",
       "    <tr>\n",
       "      <th>50%</th>\n",
       "      <td>1.171753e+07</td>\n",
       "      <td>38.905171</td>\n",
       "      <td>40.000000</td>\n",
       "      <td>100.000000</td>\n",
       "    </tr>\n",
       "    <tr>\n",
       "      <th>75%</th>\n",
       "      <td>2.212177e+07</td>\n",
       "      <td>41.351717</td>\n",
       "      <td>50.000000</td>\n",
       "      <td>100.000000</td>\n",
       "    </tr>\n",
       "    <tr>\n",
       "      <th>max</th>\n",
       "      <td>1.111111e+10</td>\n",
       "      <td>42.255677</td>\n",
       "      <td>120.000000</td>\n",
       "      <td>130.000000</td>\n",
       "    </tr>\n",
       "  </tbody>\n",
       "</table>\n",
       "</div>"
      ],
      "text/plain": [
       "          unique_ID      A2_LON         age  Percentage of land (%)\n",
       "count  7.750000e+02  775.000000  775.000000              775.000000\n",
       "mean   3.656036e+08   39.532398   43.015484               93.952258\n",
       "std    1.639623e+09    1.342016   13.139473               15.338272\n",
       "min    1.121252e+06   38.010288   18.000000               10.000000\n",
       "25%    1.136382e+07   38.523690   35.000000              100.000000\n",
       "50%    1.171753e+07   38.905171   40.000000              100.000000\n",
       "75%    2.212177e+07   41.351717   50.000000              100.000000\n",
       "max    1.111111e+10   42.255677  120.000000              130.000000"
      ]
     },
     "execution_count": 8,
     "metadata": {},
     "output_type": "execute_result"
    }
   ],
   "source": [
    "data.describe()"
   ]
  },
  {
   "cell_type": "code",
   "execution_count": 9,
   "id": "37303607",
   "metadata": {},
   "outputs": [
    {
     "data": {
      "text/plain": [
       "Index(['REGION', 'WOREDA', 'KEBELE', 'unique_ID', 'A2_LAT', 'A2_LON', 'age',\n",
       "       'sex', 'Land_measurement (ha)', 'Percentage of land (%)'],\n",
       "      dtype='object')"
      ]
     },
     "execution_count": 9,
     "metadata": {},
     "output_type": "execute_result"
    }
   ],
   "source": [
    "data.columns\n"
   ]
  },
  {
   "cell_type": "code",
   "execution_count": 10,
   "id": "443b15a6",
   "metadata": {},
   "outputs": [
    {
     "data": {
      "text/plain": [
       "REGION                      2\n",
       "WOREDA                     13\n",
       "KEBELE                     44\n",
       "unique_ID                 765\n",
       "A2_LAT                    765\n",
       "A2_LON                    768\n",
       "age                        62\n",
       "sex                         2\n",
       "Land_measurement (ha)     369\n",
       "Percentage of land (%)     19\n",
       "dtype: int64"
      ]
     },
     "execution_count": 10,
     "metadata": {},
     "output_type": "execute_result"
    }
   ],
   "source": [
    "data.nunique()"
   ]
  },
  {
   "cell_type": "code",
   "execution_count": 11,
   "id": "dc0be81b",
   "metadata": {},
   "outputs": [
    {
     "data": {
      "text/plain": [
       "array([ 38,  33,  30,  40,  35,  28,  34,  32,  50,  36,  66,  45,  60,\n",
       "        47,  42,  44,  95,  41,  37,  62,  24,  61,  59,  80,  43,  55,\n",
       "        48,  26,  56,  75,  53,  70,  21,  85,  65, 105,  22,  31,  52,\n",
       "        39,  29,  25,  63,  64,  67,  46,  51,  68,  54,  27,  84,  18,\n",
       "        57,  72,  20,  23,  58, 120,  90,  49,  76,  19], dtype=int64)"
      ]
     },
     "execution_count": 11,
     "metadata": {},
     "output_type": "execute_result"
    }
   ],
   "source": [
    "data['age'].unique()"
   ]
  },
  {
   "cell_type": "code",
   "execution_count": 12,
   "id": "b7ed5b8f",
   "metadata": {},
   "outputs": [
    {
     "data": {
      "text/plain": [
       "array([0.159, 0.37, 0.098, 0.08, 0.037, 0.61, 0.21, 0.334, 0.568, 0.125,\n",
       "       0.226, 0.05, 0.12, 0.203, 0.081, 0.144, 0.112, 0.216, 0.133, 0.15,\n",
       "       0.46, 0.25, 0.375, 0.798, 0.75, 0.188, 0.2, 0.22, 0.025, 0.423,\n",
       "       0.219, 0.256, 0.329, 0.65, 0.214, 0.5, 0.23, 0.205, 0.673, 1,\n",
       "       0.275, 0.512, 0.45, 0.416, 0.145, 0.397, 0.628, 0.32, 0.3, 0.11,\n",
       "       0.385, 0.213, 1.5, 0.477, 0.826, 0.362, 0.176, 0.28, 0.4, 0.409,\n",
       "       0.078, 0.143, 0.474, 0.39, 0.056, 0.98, 0.14, 0.115, 0.036, 1.1,\n",
       "       0.31, 0.43, 0.33, 0.093, 0.251, 0.062, 0.076, 0.439, 0.242, 0.094,\n",
       "       0.18, 0.212, 0.065, 0.017, 0.077, 0.041, 0.511, 0.349, 0.695, 1.25,\n",
       "       5, 0.522, 0.68, 0.753, 0.666, 0.436, 0.273, 0.215, 0.255, 0.012,\n",
       "       0.475, 0.671, 0.363, 0.058, 0.79, 0.85, 0.63, 0.042, nan, 0.086,\n",
       "       0.1, 0.44, 0.158, 0.66, 0.057, 0.074, 0.06, 0.297, 0.316, 0.157,\n",
       "       0.015, 0.228, 0.04, 0.502, 0.799, 0.048, 0.56, 0.91, 3, 0.52,\n",
       "       0.693, 0.26, 0.111, 0.595, 4, 0.099, 0.045, 0.147, 0.061, 0.018,\n",
       "       0.09, 0.092, 0.101, 0.236, 0.187, 0.404, 0.142, 0.186, 0.326,\n",
       "       0.245, 0.342, 0.053, 0.068, 0.084, 0.325, 0.466, 0.217, 0.117,\n",
       "       0.48, 0.106, 0.204, 0.089, 0.132, 0.047, 0.473, 0.582, 0.136,\n",
       "       0.038, 0.189, 0.043, 0.046, 0.141, 0.36, 0.403, 0.291, 0.034,\n",
       "       0.196, 0.069, 0.201, 0.122, 0.104, 0.207, 0.195, 0.02, 1.111, 0.6,\n",
       "       0.314, 0.77, 0.0625, 0.223, 0.74, 0.321, 0.185, 0.211, 0.184, 0.16,\n",
       "       0.173, 0.026, 0.356, 0.17, 0.265, 0.625, 0.218, 0.253, 0.425,\n",
       "       0.107, 0.414, 0.13, 0.323, 0.225, 0.338, 0.372, 0.62, 0.71, 0.556,\n",
       "       0.374, 0.612, 0.981, 0.591, 0.952, 0.795, 0.817, 0.485, 0.583,\n",
       "       1.432, 0.209, 0.103, 0.351, 0.322, 0.108, 0.335, 0.286, 0.679,\n",
       "       0.498, 0.352, 0.03, 0.413, 0.339, 0.537, 0.199, 0.376, 0.283,\n",
       "       0.707, 0.632, 0.715, 0.305, 0.564, 0.609, 0.347, 0.222, 0.532,\n",
       "       0.879, 0.168, 0.471, 0.527, 0.988, 0.252, 0.381, 0.308, 0.797,\n",
       "       0.295, 0.249, 0.155, 0.096, 1.01, 0.258, 0.138, 0.394, 0.499,\n",
       "       0.127, 0.224, 0.134, 0.69, 0.7, 0.231, 0.135, 0.421, ' ', 0.091,\n",
       "       0.313, 0.259, 0.072, 0.353, 0.024, 0.123, 0.354, 0.022, 0.016,\n",
       "       0.615, 0.616, 0.083, 0.119, 0.052, 0.42, 0.011, 0.153, 0.241,\n",
       "       0.837, 1.85, 0.175, 0.272, 1.491, 0.646, 1.217, 0.55, 0.237, 0.137,\n",
       "       0.373, 0.19, 0.332, 0.408, 0.208, 0.496, 0.602, 0.246, 0.285,\n",
       "       0.465, 2, 0.129, 0.875, 0.006, 0.004, 0.198, 0.507, 0.156, 0.059,\n",
       "       0.087, 0.082, 0.227, 0.267, 0.697, 0.88, 0.369, 0.102, 0.066,\n",
       "       0.054, 0.268, 0.292, 0.128, 0.304, 0.401, 0.24, 0.346, 0.93, 1.125,\n",
       "       0.812, 0.516, 0.67, 0.148, 0.183, 0.146, 0.51, 0.194, 0.035, 0.07,\n",
       "       0.278, 0.357, 0.261, 0.302, 0.419, 0.032, 0.58, 0.027, 0.01, 0.725,\n",
       "       0.174, 0.835, 10, 0.35, 1.05], dtype=object)"
      ]
     },
     "execution_count": 12,
     "metadata": {},
     "output_type": "execute_result"
    }
   ],
   "source": [
    "data['Land_measurement (ha)'].unique()"
   ]
  },
  {
   "cell_type": "code",
   "execution_count": 14,
   "id": "660c471a",
   "metadata": {},
   "outputs": [
    {
     "data": {
      "text/plain": [
       "array(['Obi Lamata', 'Gogwisa', 'Dawe', 'Boku Walda', 'Caffe  Waltaha',\n",
       "       'Ifa bas', 'Waldaya  Misoma', \"Dagaya   Bal'oo\", 'Kerensa',\n",
       "       'Negaya midga', 'Edo Gigessa', 'Ali?wayo', 'Gorbi Areba',\n",
       "       'Rafu Hergissa', 'Anshokela Hiro', 'Mutu Binsho', 'Fende Ejersa',\n",
       "       'Alge Rima', 'Lebu Subuka', 'Sedecha Kemale', 'Walilalti',\n",
       "       'Beshira Chefa', 'Sembero', 'Sengo', 'Chefe Burkitu', 'Hallo',\n",
       "       'Bochessa', 'golbaaluto', 'Naka', 'werjawashigula', 'Dujuma',\n",
       "       'Mudianano', 'Erer Ebada', 'Sondi', 'Kortu', 'Ayalegumgum',\n",
       "       'Hululmojo', 'kubidimtuu', 'alelugesela', 'hugisoboreno',\n",
       "       'awashbishola', 'korodegaga', 'bilanchaalamaan', 'ufuraagamsa'],\n",
       "      dtype=object)"
      ]
     },
     "execution_count": 14,
     "metadata": {},
     "output_type": "execute_result"
    }
   ],
   "source": [
    "data['KEBELE'].unique()"
   ]
  },
  {
   "cell_type": "code",
   "execution_count": null,
   "id": "c98b64d7",
   "metadata": {},
   "outputs": [],
   "source": [
    "#cleaning the data"
   ]
  },
  {
   "cell_type": "code",
   "execution_count": 16,
   "id": "cc5ab92a",
   "metadata": {},
   "outputs": [
    {
     "name": "stdout",
     "output_type": "stream",
     "text": [
      "<class 'pandas.core.frame.DataFrame'>\n",
      "RangeIndex: 775 entries, 0 to 774\n",
      "Data columns (total 10 columns):\n",
      " #   Column                  Non-Null Count  Dtype  \n",
      "---  ------                  --------------  -----  \n",
      " 0   REGION                  775 non-null    object \n",
      " 1   WOREDA                  775 non-null    object \n",
      " 2   KEBELE                  775 non-null    object \n",
      " 3   unique_ID               775 non-null    int64  \n",
      " 4   A2_LAT                  775 non-null    object \n",
      " 5   A2_LON                  775 non-null    float64\n",
      " 6   age                     775 non-null    int64  \n",
      " 7   sex                     773 non-null    object \n",
      " 8   Land_measurement (ha)   772 non-null    object \n",
      " 9   Percentage of land (%)  775 non-null    int64  \n",
      "dtypes: float64(1), int64(3), object(6)\n",
      "memory usage: 60.7+ KB\n"
     ]
    }
   ],
   "source": [
    "data.info()"
   ]
  },
  {
   "cell_type": "code",
   "execution_count": 15,
   "id": "19d0c2a0",
   "metadata": {},
   "outputs": [
    {
     "data": {
      "text/plain": [
       "REGION                    0\n",
       "WOREDA                    0\n",
       "KEBELE                    0\n",
       "unique_ID                 0\n",
       "A2_LAT                    0\n",
       "A2_LON                    0\n",
       "age                       0\n",
       "sex                       2\n",
       "Land_measurement (ha)     3\n",
       "Percentage of land (%)    0\n",
       "dtype: int64"
      ]
     },
     "execution_count": 15,
     "metadata": {},
     "output_type": "execute_result"
    }
   ],
   "source": [
    "print(data.isnull().sum())"
   ]
  },
  {
   "cell_type": "code",
   "execution_count": 19,
   "id": "b9430bc3",
   "metadata": {},
   "outputs": [],
   "source": [
    "updated_data = data.dropna()"
   ]
  },
  {
   "cell_type": "code",
   "execution_count": 20,
   "id": "9c2ba4d0",
   "metadata": {},
   "outputs": [
    {
     "name": "stdout",
     "output_type": "stream",
     "text": [
      "<class 'pandas.core.frame.DataFrame'>\n",
      "Int64Index: 770 entries, 0 to 774\n",
      "Data columns (total 10 columns):\n",
      " #   Column                  Non-Null Count  Dtype  \n",
      "---  ------                  --------------  -----  \n",
      " 0   REGION                  770 non-null    object \n",
      " 1   WOREDA                  770 non-null    object \n",
      " 2   KEBELE                  770 non-null    object \n",
      " 3   unique_ID               770 non-null    int64  \n",
      " 4   A2_LAT                  770 non-null    object \n",
      " 5   A2_LON                  770 non-null    float64\n",
      " 6   age                     770 non-null    int64  \n",
      " 7   sex                     770 non-null    object \n",
      " 8   Land_measurement (ha)   770 non-null    object \n",
      " 9   Percentage of land (%)  770 non-null    int64  \n",
      "dtypes: float64(1), int64(3), object(6)\n",
      "memory usage: 66.2+ KB\n"
     ]
    }
   ],
   "source": [
    "updated_data.info()"
   ]
  },
  {
   "cell_type": "code",
   "execution_count": 12,
   "id": "254ed761",
   "metadata": {
    "execution": {
     "iopub.execute_input": "2022-06-16T09:19:29.888982Z",
     "iopub.status.busy": "2022-06-16T09:19:29.888668Z",
     "iopub.status.idle": "2022-06-16T09:19:29.892952Z",
     "shell.execute_reply": "2022-06-16T09:19:29.891704Z",
     "shell.execute_reply.started": "2022-06-16T09:19:29.888950Z"
    }
   },
   "outputs": [],
   "source": [
    "#print(data.to_string())"
   ]
  },
  {
   "cell_type": "code",
   "execution_count": 30,
   "id": "29ca4808",
   "metadata": {},
   "outputs": [
    {
     "data": {
      "text/plain": [
       "(775, 10)"
      ]
     },
     "execution_count": 30,
     "metadata": {},
     "output_type": "execute_result"
    }
   ],
   "source": [
    "data.shape"
   ]
  },
  {
   "cell_type": "code",
   "execution_count": 13,
   "id": "6e67492f",
   "metadata": {
    "execution": {
     "iopub.execute_input": "2022-06-16T09:19:45.750311Z",
     "iopub.status.busy": "2022-06-16T09:19:45.749989Z",
     "iopub.status.idle": "2022-06-16T09:19:45.777040Z",
     "shell.execute_reply": "2022-06-16T09:19:45.776019Z",
     "shell.execute_reply.started": "2022-06-16T09:19:45.750278Z"
    }
   },
   "outputs": [
    {
     "data": {
      "text/html": [
       "<div>\n",
       "<style scoped>\n",
       "    .dataframe tbody tr th:only-of-type {\n",
       "        vertical-align: middle;\n",
       "    }\n",
       "\n",
       "    .dataframe tbody tr th {\n",
       "        vertical-align: top;\n",
       "    }\n",
       "\n",
       "    .dataframe thead th {\n",
       "        text-align: right;\n",
       "    }\n",
       "</style>\n",
       "<table border=\"1\" class=\"dataframe\">\n",
       "  <thead>\n",
       "    <tr style=\"text-align: right;\">\n",
       "      <th></th>\n",
       "      <th>REGION</th>\n",
       "      <th>WOREDA</th>\n",
       "      <th>KEBELE</th>\n",
       "      <th>unique_ID</th>\n",
       "      <th>A2_LAT</th>\n",
       "      <th>A2_LON</th>\n",
       "      <th>age</th>\n",
       "      <th>sex</th>\n",
       "      <th>Land_measurement (ha)</th>\n",
       "      <th>Percentage of land (%)</th>\n",
       "    </tr>\n",
       "  </thead>\n",
       "  <tbody>\n",
       "    <tr>\n",
       "      <th>0</th>\n",
       "      <td>False</td>\n",
       "      <td>False</td>\n",
       "      <td>False</td>\n",
       "      <td>False</td>\n",
       "      <td>False</td>\n",
       "      <td>False</td>\n",
       "      <td>False</td>\n",
       "      <td>False</td>\n",
       "      <td>False</td>\n",
       "      <td>False</td>\n",
       "    </tr>\n",
       "    <tr>\n",
       "      <th>1</th>\n",
       "      <td>False</td>\n",
       "      <td>False</td>\n",
       "      <td>False</td>\n",
       "      <td>False</td>\n",
       "      <td>False</td>\n",
       "      <td>False</td>\n",
       "      <td>False</td>\n",
       "      <td>False</td>\n",
       "      <td>False</td>\n",
       "      <td>False</td>\n",
       "    </tr>\n",
       "    <tr>\n",
       "      <th>2</th>\n",
       "      <td>False</td>\n",
       "      <td>False</td>\n",
       "      <td>False</td>\n",
       "      <td>False</td>\n",
       "      <td>False</td>\n",
       "      <td>False</td>\n",
       "      <td>False</td>\n",
       "      <td>False</td>\n",
       "      <td>False</td>\n",
       "      <td>False</td>\n",
       "    </tr>\n",
       "    <tr>\n",
       "      <th>3</th>\n",
       "      <td>False</td>\n",
       "      <td>False</td>\n",
       "      <td>False</td>\n",
       "      <td>False</td>\n",
       "      <td>False</td>\n",
       "      <td>False</td>\n",
       "      <td>False</td>\n",
       "      <td>False</td>\n",
       "      <td>False</td>\n",
       "      <td>False</td>\n",
       "    </tr>\n",
       "    <tr>\n",
       "      <th>4</th>\n",
       "      <td>False</td>\n",
       "      <td>False</td>\n",
       "      <td>False</td>\n",
       "      <td>False</td>\n",
       "      <td>False</td>\n",
       "      <td>False</td>\n",
       "      <td>False</td>\n",
       "      <td>False</td>\n",
       "      <td>False</td>\n",
       "      <td>False</td>\n",
       "    </tr>\n",
       "    <tr>\n",
       "      <th>...</th>\n",
       "      <td>...</td>\n",
       "      <td>...</td>\n",
       "      <td>...</td>\n",
       "      <td>...</td>\n",
       "      <td>...</td>\n",
       "      <td>...</td>\n",
       "      <td>...</td>\n",
       "      <td>...</td>\n",
       "      <td>...</td>\n",
       "      <td>...</td>\n",
       "    </tr>\n",
       "    <tr>\n",
       "      <th>770</th>\n",
       "      <td>False</td>\n",
       "      <td>False</td>\n",
       "      <td>False</td>\n",
       "      <td>False</td>\n",
       "      <td>False</td>\n",
       "      <td>False</td>\n",
       "      <td>False</td>\n",
       "      <td>False</td>\n",
       "      <td>False</td>\n",
       "      <td>False</td>\n",
       "    </tr>\n",
       "    <tr>\n",
       "      <th>771</th>\n",
       "      <td>False</td>\n",
       "      <td>False</td>\n",
       "      <td>False</td>\n",
       "      <td>False</td>\n",
       "      <td>False</td>\n",
       "      <td>False</td>\n",
       "      <td>False</td>\n",
       "      <td>False</td>\n",
       "      <td>False</td>\n",
       "      <td>False</td>\n",
       "    </tr>\n",
       "    <tr>\n",
       "      <th>772</th>\n",
       "      <td>False</td>\n",
       "      <td>False</td>\n",
       "      <td>False</td>\n",
       "      <td>False</td>\n",
       "      <td>False</td>\n",
       "      <td>False</td>\n",
       "      <td>False</td>\n",
       "      <td>False</td>\n",
       "      <td>False</td>\n",
       "      <td>False</td>\n",
       "    </tr>\n",
       "    <tr>\n",
       "      <th>773</th>\n",
       "      <td>False</td>\n",
       "      <td>False</td>\n",
       "      <td>False</td>\n",
       "      <td>False</td>\n",
       "      <td>False</td>\n",
       "      <td>False</td>\n",
       "      <td>False</td>\n",
       "      <td>False</td>\n",
       "      <td>False</td>\n",
       "      <td>False</td>\n",
       "    </tr>\n",
       "    <tr>\n",
       "      <th>774</th>\n",
       "      <td>False</td>\n",
       "      <td>False</td>\n",
       "      <td>False</td>\n",
       "      <td>False</td>\n",
       "      <td>False</td>\n",
       "      <td>False</td>\n",
       "      <td>False</td>\n",
       "      <td>False</td>\n",
       "      <td>False</td>\n",
       "      <td>False</td>\n",
       "    </tr>\n",
       "  </tbody>\n",
       "</table>\n",
       "<p>775 rows × 10 columns</p>\n",
       "</div>"
      ],
      "text/plain": [
       "     REGION  WOREDA  KEBELE  unique_ID  A2_LAT  A2_LON    age    sex  \\\n",
       "0     False   False   False      False   False   False  False  False   \n",
       "1     False   False   False      False   False   False  False  False   \n",
       "2     False   False   False      False   False   False  False  False   \n",
       "3     False   False   False      False   False   False  False  False   \n",
       "4     False   False   False      False   False   False  False  False   \n",
       "..      ...     ...     ...        ...     ...     ...    ...    ...   \n",
       "770   False   False   False      False   False   False  False  False   \n",
       "771   False   False   False      False   False   False  False  False   \n",
       "772   False   False   False      False   False   False  False  False   \n",
       "773   False   False   False      False   False   False  False  False   \n",
       "774   False   False   False      False   False   False  False  False   \n",
       "\n",
       "     Land_measurement (ha)  Percentage of land (%)  \n",
       "0                    False                   False  \n",
       "1                    False                   False  \n",
       "2                    False                   False  \n",
       "3                    False                   False  \n",
       "4                    False                   False  \n",
       "..                     ...                     ...  \n",
       "770                  False                   False  \n",
       "771                  False                   False  \n",
       "772                  False                   False  \n",
       "773                  False                   False  \n",
       "774                  False                   False  \n",
       "\n",
       "[775 rows x 10 columns]"
      ]
     },
     "execution_count": 13,
     "metadata": {},
     "output_type": "execute_result"
    }
   ],
   "source": [
    "data.isna()"
   ]
  },
  {
   "cell_type": "code",
   "execution_count": 32,
   "id": "aac202a3",
   "metadata": {},
   "outputs": [
    {
     "data": {
      "text/html": [
       "<div>\n",
       "<style scoped>\n",
       "    .dataframe tbody tr th:only-of-type {\n",
       "        vertical-align: middle;\n",
       "    }\n",
       "\n",
       "    .dataframe tbody tr th {\n",
       "        vertical-align: top;\n",
       "    }\n",
       "\n",
       "    .dataframe thead th {\n",
       "        text-align: right;\n",
       "    }\n",
       "</style>\n",
       "<table border=\"1\" class=\"dataframe\">\n",
       "  <thead>\n",
       "    <tr style=\"text-align: right;\">\n",
       "      <th></th>\n",
       "      <th>REGION</th>\n",
       "      <th>WOREDA</th>\n",
       "      <th>KEBELE</th>\n",
       "      <th>unique_ID</th>\n",
       "      <th>A2_LAT</th>\n",
       "      <th>A2_LON</th>\n",
       "      <th>age</th>\n",
       "      <th>sex</th>\n",
       "      <th>Land_measurement (ha)</th>\n",
       "      <th>Percentage of land (%)</th>\n",
       "    </tr>\n",
       "  </thead>\n",
       "  <tbody>\n",
       "    <tr>\n",
       "      <th>0</th>\n",
       "      <td>Oromia</td>\n",
       "      <td>Deder</td>\n",
       "      <td>Obi Lamata</td>\n",
       "      <td>1121252</td>\n",
       "      <td>9.336216</td>\n",
       "      <td>41.403308</td>\n",
       "      <td>38</td>\n",
       "      <td>Female</td>\n",
       "      <td>0.159</td>\n",
       "      <td>100</td>\n",
       "    </tr>\n",
       "    <tr>\n",
       "      <th>1</th>\n",
       "      <td>Oromia</td>\n",
       "      <td>Deder</td>\n",
       "      <td>Obi Lamata</td>\n",
       "      <td>1121254</td>\n",
       "      <td>9.318726</td>\n",
       "      <td>41.378943</td>\n",
       "      <td>33</td>\n",
       "      <td>Male</td>\n",
       "      <td>0.37</td>\n",
       "      <td>80</td>\n",
       "    </tr>\n",
       "    <tr>\n",
       "      <th>2</th>\n",
       "      <td>Oromia</td>\n",
       "      <td>Deder</td>\n",
       "      <td>Obi Lamata</td>\n",
       "      <td>1121256</td>\n",
       "      <td>9.332073</td>\n",
       "      <td>41.382834</td>\n",
       "      <td>30</td>\n",
       "      <td>Female</td>\n",
       "      <td>0.098</td>\n",
       "      <td>100</td>\n",
       "    </tr>\n",
       "    <tr>\n",
       "      <th>3</th>\n",
       "      <td>Oromia</td>\n",
       "      <td>Deder</td>\n",
       "      <td>Obi Lamata</td>\n",
       "      <td>1121258</td>\n",
       "      <td>9.33248</td>\n",
       "      <td>41.390893</td>\n",
       "      <td>38</td>\n",
       "      <td>Male</td>\n",
       "      <td>0.08</td>\n",
       "      <td>60</td>\n",
       "    </tr>\n",
       "    <tr>\n",
       "      <th>4</th>\n",
       "      <td>Oromia</td>\n",
       "      <td>Deder</td>\n",
       "      <td>Gogwisa</td>\n",
       "      <td>1121266</td>\n",
       "      <td>9.158377</td>\n",
       "      <td>41.479508</td>\n",
       "      <td>40</td>\n",
       "      <td>Female</td>\n",
       "      <td>0.037</td>\n",
       "      <td>75</td>\n",
       "    </tr>\n",
       "    <tr>\n",
       "      <th>...</th>\n",
       "      <td>...</td>\n",
       "      <td>...</td>\n",
       "      <td>...</td>\n",
       "      <td>...</td>\n",
       "      <td>...</td>\n",
       "      <td>...</td>\n",
       "      <td>...</td>\n",
       "      <td>...</td>\n",
       "      <td>...</td>\n",
       "      <td>...</td>\n",
       "    </tr>\n",
       "    <tr>\n",
       "      <th>770</th>\n",
       "      <td>Oromia</td>\n",
       "      <td>Sire</td>\n",
       "      <td>ufuraagamsa</td>\n",
       "      <td>11111113110</td>\n",
       "      <td>8.349724</td>\n",
       "      <td>39.526393</td>\n",
       "      <td>50</td>\n",
       "      <td>Male</td>\n",
       "      <td>0.14</td>\n",
       "      <td>100</td>\n",
       "    </tr>\n",
       "    <tr>\n",
       "      <th>771</th>\n",
       "      <td>Oromia</td>\n",
       "      <td>Sire</td>\n",
       "      <td>ufuraagamsa</td>\n",
       "      <td>11111113116</td>\n",
       "      <td>8.34851</td>\n",
       "      <td>39.513112</td>\n",
       "      <td>27</td>\n",
       "      <td>Male</td>\n",
       "      <td>0.23</td>\n",
       "      <td>80</td>\n",
       "    </tr>\n",
       "    <tr>\n",
       "      <th>772</th>\n",
       "      <td>Oromia</td>\n",
       "      <td>Sire</td>\n",
       "      <td>ufuraagamsa</td>\n",
       "      <td>11111113122</td>\n",
       "      <td>8.375818</td>\n",
       "      <td>39.554494</td>\n",
       "      <td>22</td>\n",
       "      <td>Female</td>\n",
       "      <td>0.125</td>\n",
       "      <td>100</td>\n",
       "    </tr>\n",
       "    <tr>\n",
       "      <th>773</th>\n",
       "      <td>Oromia</td>\n",
       "      <td>Sire</td>\n",
       "      <td>ufuraagamsa</td>\n",
       "      <td>11111113128</td>\n",
       "      <td>8.349599</td>\n",
       "      <td>39.526512</td>\n",
       "      <td>23</td>\n",
       "      <td>Male</td>\n",
       "      <td>0.12</td>\n",
       "      <td>100</td>\n",
       "    </tr>\n",
       "    <tr>\n",
       "      <th>774</th>\n",
       "      <td>Oromia</td>\n",
       "      <td>Sire</td>\n",
       "      <td>ufuraagamsa</td>\n",
       "      <td>11111113134</td>\n",
       "      <td>8.3513</td>\n",
       "      <td>39.513283</td>\n",
       "      <td>38</td>\n",
       "      <td>Female</td>\n",
       "      <td>0.12</td>\n",
       "      <td>100</td>\n",
       "    </tr>\n",
       "  </tbody>\n",
       "</table>\n",
       "<p>770 rows × 10 columns</p>\n",
       "</div>"
      ],
      "text/plain": [
       "     REGION WOREDA       KEBELE    unique_ID    A2_LAT     A2_LON  age  \\\n",
       "0    Oromia  Deder   Obi Lamata      1121252  9.336216  41.403308   38   \n",
       "1    Oromia  Deder   Obi Lamata      1121254  9.318726  41.378943   33   \n",
       "2    Oromia  Deder   Obi Lamata      1121256  9.332073  41.382834   30   \n",
       "3    Oromia  Deder   Obi Lamata      1121258   9.33248  41.390893   38   \n",
       "4    Oromia  Deder      Gogwisa      1121266  9.158377  41.479508   40   \n",
       "..      ...    ...          ...          ...       ...        ...  ...   \n",
       "770  Oromia   Sire  ufuraagamsa  11111113110  8.349724  39.526393   50   \n",
       "771  Oromia   Sire  ufuraagamsa  11111113116   8.34851  39.513112   27   \n",
       "772  Oromia   Sire  ufuraagamsa  11111113122  8.375818  39.554494   22   \n",
       "773  Oromia   Sire  ufuraagamsa  11111113128  8.349599  39.526512   23   \n",
       "774  Oromia   Sire  ufuraagamsa  11111113134    8.3513  39.513283   38   \n",
       "\n",
       "        sex Land_measurement (ha)  Percentage of land (%)  \n",
       "0    Female                 0.159                     100  \n",
       "1      Male                  0.37                      80  \n",
       "2    Female                 0.098                     100  \n",
       "3      Male                  0.08                      60  \n",
       "4    Female                 0.037                      75  \n",
       "..      ...                   ...                     ...  \n",
       "770    Male                  0.14                     100  \n",
       "771    Male                  0.23                      80  \n",
       "772  Female                 0.125                     100  \n",
       "773    Male                  0.12                     100  \n",
       "774  Female                  0.12                     100  \n",
       "\n",
       "[770 rows x 10 columns]"
      ]
     },
     "execution_count": 32,
     "metadata": {},
     "output_type": "execute_result"
    }
   ],
   "source": [
    "data.dropna(axis='index' , how='any')"
   ]
  },
  {
   "cell_type": "code",
   "execution_count": 34,
   "id": "4bbd1c67",
   "metadata": {},
   "outputs": [
    {
     "data": {
      "text/plain": [
       "0      False\n",
       "1      False\n",
       "2      False\n",
       "3      False\n",
       "4      False\n",
       "       ...  \n",
       "770    False\n",
       "771    False\n",
       "772    False\n",
       "773    False\n",
       "774    False\n",
       "Length: 775, dtype: bool"
      ]
     },
     "execution_count": 34,
     "metadata": {},
     "output_type": "execute_result"
    }
   ],
   "source": [
    "data.duplicated()"
   ]
  },
  {
   "cell_type": "code",
   "execution_count": null,
   "id": "6669d90f",
   "metadata": {},
   "outputs": [],
   "source": [
    "#relationship analysis"
   ]
  },
  {
   "cell_type": "code",
   "execution_count": 39,
   "id": "57664f2a",
   "metadata": {},
   "outputs": [],
   "source": [
    "corelation = data.corr()"
   ]
  },
  {
   "cell_type": "code",
   "execution_count": 40,
   "id": "a7ea2166",
   "metadata": {},
   "outputs": [
    {
     "data": {
      "text/plain": [
       "<AxesSubplot:>"
      ]
     },
     "execution_count": 40,
     "metadata": {},
     "output_type": "execute_result"
    },
    {
     "data": {
      "image/png": "[encoded data removed]",
      "text/plain": [
       "<Figure size 432x288 with 2 Axes>"
      ]
     },
     "metadata": {
      "needs_background": "light"
     },
     "output_type": "display_data"
    }
   ],
   "source": [
    "sns.heatmap(corelation, xticklabels=corelation.columns, yticklabels=corelation.columns\n",
    "           ,annot=True)"
   ]
  },
  {
   "cell_type": "code",
   "execution_count": null,
   "id": "15c8e5e8",
   "metadata": {},
   "outputs": [],
   "source": [
    "#The most frequently used words"
   ]
  },
  {
   "cell_type": "code",
   "execution_count": 53,
   "id": "91d6af5c",
   "metadata": {},
   "outputs": [],
   "source": [
    "#To build a wordcloud, we have to remove NULL values first:\n",
    "data[\"WOREDA\"] = data[\"WOREDA\"].fillna(value=\"\")"
   ]
  },
  {
   "cell_type": "code",
   "execution_count": 54,
   "id": "12f62b23",
   "metadata": {},
   "outputs": [],
   "source": [
    "#Now let's add a string value instead to make our Series clean:\n",
    "word_string=\" \".join(data['WOREDA'].str.lower())\n",
    "#word_string"
   ]
  },
  {
   "cell_type": "code",
   "execution_count": 55,
   "id": "3e66cbf7",
   "metadata": {},
   "outputs": [
    {
     "data": {
      "text/plain": [
       "(-0.5, 1599.5, 799.5, -0.5)"
      ]
     },
     "execution_count": 55,
     "metadata": {},
     "output_type": "execute_result"
    },
    {
     "data": {
      "image/png": "[encoded data removed]",
      "text/plain": [
       "<Figure size 1080x1080 with 1 Axes>"
      ]
     },
     "metadata": {
      "needs_background": "light"
     },
     "output_type": "display_data"
    }
   ],
   "source": [
    "#And - plotting:\n",
    "plt.figure(figsize=(15,15))\n",
    "wc = WordCloud(background_color=\"purple\", stopwords = STOPWORDS, max_words=2000, max_font_size= 300,  width=1600, height=800)\n",
    "wc.generate(word_string)\n",
    "plt.imshow(wc.recolor( colormap= 'viridis' , random_state=17), interpolation=\"bilinear\")\n",
    "plt.axis('off')"
   ]
  },
  {
   "cell_type": "code",
   "execution_count": 59,
   "id": "af48e387",
   "metadata": {},
   "outputs": [
    {
     "name": "stderr",
     "output_type": "stream",
     "text": [
      "c:\\users\\user\\anaconda3\\lib\\site-packages\\seaborn\\distributions.py:2557: FutureWarning: `distplot` is a deprecated function and will be removed in a future version. Please adapt your code to use either `displot` (a figure-level function with similar flexibility) or `histplot` (an axes-level function for histograms).\n",
      "  warnings.warn(msg, FutureWarning)\n"
     ]
    },
    {
     "data": {
      "image/png": "[encoded data removed]",
      "text/plain": [
       "<Figure size 432x288 with 1 Axes>"
      ]
     },
     "metadata": {
      "needs_background": "light"
     },
     "output_type": "display_data"
    }
   ],
   "source": [
    "#Comments distribution plot:\n",
    "fig, ax = plt.subplots()\n",
    "_ = sns.distplot(data[data[\"Percentage of land (%)\"] < 60][\"Percentage of land (%)\"], kde=False, rug=False, hist_kws={'alpha': 1}, ax=ax)\n",
    "_ = ax.set(xlabel=\"Land_measurement (ha\", ylabel=\"id\")\n",
    "plt.ylabel(\"Percentage of land (%)\")\n",
    "plt.xlabel(\"Land_measurement (ha\")\n",
    "plt.show()"
   ]
  },
  {
   "cell_type": "code",
   "execution_count": 61,
   "id": "f1684a34",
   "metadata": {},
   "outputs": [],
   "source": [
    "#Make new variable cpu\n",
    "data['multiplied_column'] = data['Land_measurement (ha)'] * data['Percentage of land (%)']"
   ]
  },
  {
   "cell_type": "code",
   "execution_count": 63,
   "id": "b65ba458",
   "metadata": {},
   "outputs": [
    {
     "data": {
      "text/plain": [
       "0       15.9\n",
       "1       29.6\n",
       "2        9.8\n",
       "3        4.8\n",
       "4      2.775\n",
       "       ...  \n",
       "770     14.0\n",
       "771     18.4\n",
       "772     12.5\n",
       "773     12.0\n",
       "774     12.0\n",
       "Name: multiplied_column, Length: 775, dtype: object"
      ]
     },
     "execution_count": 63,
     "metadata": {},
     "output_type": "execute_result"
    }
   ],
   "source": [
    "data['multiplied_column']"
   ]
  },
  {
   "cell_type": "code",
   "execution_count": 64,
   "id": "e163100b",
   "metadata": {},
   "outputs": [
    {
     "data": {
      "text/html": [
       "<div>\n",
       "<style scoped>\n",
       "    .dataframe tbody tr th:only-of-type {\n",
       "        vertical-align: middle;\n",
       "    }\n",
       "\n",
       "    .dataframe tbody tr th {\n",
       "        vertical-align: top;\n",
       "    }\n",
       "\n",
       "    .dataframe thead th {\n",
       "        text-align: right;\n",
       "    }\n",
       "</style>\n",
       "<table border=\"1\" class=\"dataframe\">\n",
       "  <thead>\n",
       "    <tr style=\"text-align: right;\">\n",
       "      <th></th>\n",
       "      <th>REGION</th>\n",
       "      <th>WOREDA</th>\n",
       "      <th>KEBELE</th>\n",
       "      <th>unique_ID</th>\n",
       "      <th>A2_LAT</th>\n",
       "      <th>A2_LON</th>\n",
       "      <th>age</th>\n",
       "      <th>sex</th>\n",
       "      <th>Land_measurement (ha)</th>\n",
       "      <th>Percentage of land (%)</th>\n",
       "      <th>multiplied_column</th>\n",
       "    </tr>\n",
       "  </thead>\n",
       "  <tbody>\n",
       "    <tr>\n",
       "      <th>0</th>\n",
       "      <td>Oromia</td>\n",
       "      <td>Deder</td>\n",
       "      <td>Obi Lamata</td>\n",
       "      <td>1121252</td>\n",
       "      <td>9.336216</td>\n",
       "      <td>41.403308</td>\n",
       "      <td>38</td>\n",
       "      <td>Female</td>\n",
       "      <td>0.159</td>\n",
       "      <td>100</td>\n",
       "      <td>15.9</td>\n",
       "    </tr>\n",
       "    <tr>\n",
       "      <th>1</th>\n",
       "      <td>Oromia</td>\n",
       "      <td>Deder</td>\n",
       "      <td>Obi Lamata</td>\n",
       "      <td>1121254</td>\n",
       "      <td>9.318726</td>\n",
       "      <td>41.378943</td>\n",
       "      <td>33</td>\n",
       "      <td>Male</td>\n",
       "      <td>0.37</td>\n",
       "      <td>80</td>\n",
       "      <td>29.6</td>\n",
       "    </tr>\n",
       "    <tr>\n",
       "      <th>2</th>\n",
       "      <td>Oromia</td>\n",
       "      <td>Deder</td>\n",
       "      <td>Obi Lamata</td>\n",
       "      <td>1121256</td>\n",
       "      <td>9.332073</td>\n",
       "      <td>41.382834</td>\n",
       "      <td>30</td>\n",
       "      <td>Female</td>\n",
       "      <td>0.098</td>\n",
       "      <td>100</td>\n",
       "      <td>9.8</td>\n",
       "    </tr>\n",
       "    <tr>\n",
       "      <th>3</th>\n",
       "      <td>Oromia</td>\n",
       "      <td>Deder</td>\n",
       "      <td>Obi Lamata</td>\n",
       "      <td>1121258</td>\n",
       "      <td>9.33248</td>\n",
       "      <td>41.390893</td>\n",
       "      <td>38</td>\n",
       "      <td>Male</td>\n",
       "      <td>0.08</td>\n",
       "      <td>60</td>\n",
       "      <td>4.8</td>\n",
       "    </tr>\n",
       "    <tr>\n",
       "      <th>4</th>\n",
       "      <td>Oromia</td>\n",
       "      <td>Deder</td>\n",
       "      <td>Gogwisa</td>\n",
       "      <td>1121266</td>\n",
       "      <td>9.158377</td>\n",
       "      <td>41.479508</td>\n",
       "      <td>40</td>\n",
       "      <td>Female</td>\n",
       "      <td>0.037</td>\n",
       "      <td>75</td>\n",
       "      <td>2.775</td>\n",
       "    </tr>\n",
       "  </tbody>\n",
       "</table>\n",
       "</div>"
      ],
      "text/plain": [
       "   REGION WOREDA      KEBELE  unique_ID    A2_LAT     A2_LON  age     sex  \\\n",
       "0  Oromia  Deder  Obi Lamata    1121252  9.336216  41.403308   38  Female   \n",
       "1  Oromia  Deder  Obi Lamata    1121254  9.318726  41.378943   33    Male   \n",
       "2  Oromia  Deder  Obi Lamata    1121256  9.332073  41.382834   30  Female   \n",
       "3  Oromia  Deder  Obi Lamata    1121258   9.33248  41.390893   38    Male   \n",
       "4  Oromia  Deder     Gogwisa    1121266  9.158377  41.479508   40  Female   \n",
       "\n",
       "  Land_measurement (ha)  Percentage of land (%) multiplied_column  \n",
       "0                 0.159                     100              15.9  \n",
       "1                  0.37                      80              29.6  \n",
       "2                 0.098                     100               9.8  \n",
       "3                  0.08                      60               4.8  \n",
       "4                 0.037                      75             2.775  "
      ]
     },
     "execution_count": 64,
     "metadata": {},
     "output_type": "execute_result"
    }
   ],
   "source": [
    "data.head(5)"
   ]
  },
  {
   "cell_type": "code",
   "execution_count": null,
   "id": "288acfb2-bcc5-4f19-bc94-1bb607900db7",
   "metadata": {},
   "outputs": [],
   "source": [
    "\"\"\"\"\"\"End\"\"\"\"\"\""
   ]
  }
 ],
 "metadata": {
  "kernelspec": {
   "display_name": "Python 3",
   "language": "python",
   "name": "python3"
  },
  "language_info": {
   "codemirror_mode": {
    "name": "ipython",
    "version": 3
   },
   "file_extension": ".py",
   "mimetype": "text/x-python",
   "name": "python",
   "nbconvert_exporter": "python",
   "pygments_lexer": "ipython3",
   "version": "3.9.6"
  }
 },
 "nbformat": 4,
 "nbformat_minor": 5
}
